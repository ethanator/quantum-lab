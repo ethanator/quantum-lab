{
 "cells": [
  {
   "cell_type": "code",
   "execution_count": 1,
   "id": "bb6df0a8-afee-4acb-99c7-38b3bf08aa3a",
   "metadata": {
    "tags": []
   },
   "outputs": [
    {
     "name": "stderr",
     "output_type": "stream",
     "text": [
      "/var/folders/v7/p7n063696w10wpsxxt6cm2fm0000gn/T/ipykernel_28330/2980513013.py:7: DeprecationWarning: The Shor class is deprecated as of Qiskit Terra 0.22.0 and will be removed\n",
      "        no sooner than 3 months after the release date.\n",
      "        It is replaced by the tutorial at https://qiskit.org/textbook/ch-algorithms/shor.html\n",
      "        \n",
      "  shor = Shor(aer_sim)\n"
     ]
    },
    {
     "data": {
      "text/plain": [
       "[[3, 7]]"
      ]
     },
     "execution_count": 1,
     "metadata": {},
     "output_type": "execute_result"
    }
   ],
   "source": [
    "from qiskit.providers.aer import AerSimulator\n",
    "aer_sim = AerSimulator()\n",
    "\n",
    "# Create an instance of Shor's algorithm, using\n",
    "# our backend\n",
    "from qiskit.algorithms import Shor\n",
    "shor = Shor(aer_sim)\n",
    "\n",
    "# Execute algorithm on specific problem and\n",
    "# view the result\n",
    "result = shor.factor(21)\n",
    "result.factors"
   ]
  }
 ],
 "metadata": {
  "kernelspec": {
   "display_name": "Python (quantum-lab)",
   "language": "python",
   "name": "quantum-lab"
  },
  "language_info": {
   "codemirror_mode": {
    "name": "ipython",
    "version": 3
   },
   "file_extension": ".py",
   "mimetype": "text/x-python",
   "name": "python",
   "nbconvert_exporter": "python",
   "pygments_lexer": "ipython3",
   "version": "3.9.16"
  }
 },
 "nbformat": 4,
 "nbformat_minor": 5
}
