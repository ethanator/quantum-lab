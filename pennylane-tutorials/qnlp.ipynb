{
 "cells": [
  {
   "cell_type": "markdown",
   "id": "2f05c0f6-170b-4512-b969-74ea64abe1b8",
   "metadata": {},
   "source": [
    "# Quantum NLP with the lambeq–PennyLane integration\n",
    "\n",
    "**References**\n",
    "\n",
    "1. [PennyLane Blog | Quantum NLP with the lambeq–PennyLane integration](https://pennylane.ai/blog/2023/04/quantum-nlp-with-the-lambeq-pennylane-integration/)"
   ]
  },
  {
   "cell_type": "markdown",
   "id": "fb3b2277-bc96-42a8-aa16-26c203549490",
   "metadata": {},
   "source": [
    "## Preparing the hybrid QNLP model"
   ]
  },
  {
   "cell_type": "code",
   "execution_count": 1,
   "id": "dd8e5d2d-4ae6-4bb0-a801-901fdcdbfccf",
   "metadata": {
    "tags": []
   },
   "outputs": [],
   "source": [
    "import torch\n",
    "import random\n",
    "import numpy as np\n",
    "\n",
    "# set seed for reproducibility\n",
    "SEED = 12\n",
    "torch.manual_seed(SEED)\n",
    "random.seed(SEED)\n",
    "np.random.seed(SEED)"
   ]
  },
  {
   "cell_type": "markdown",
   "id": "97eeb54b-e0f0-46a8-a6ab-ec57a3203b19",
   "metadata": {},
   "source": [
    "## Inputting data"
   ]
  },
  {
   "cell_type": "code",
   "execution_count": 2,
   "id": "08483b62-9ab6-4278-be6c-2fba0e489f3e",
   "metadata": {
    "tags": []
   },
   "outputs": [
    {
     "name": "stdout",
     "output_type": "stream",
     "text": [
      "[(('person runs program .', 'skillful person cooks meal .'), 0), (('skillful man bakes dinner .', 'woman runs program .'), 0), (('man bakes tasty dinner .', 'person cooks meal .'), 1), (('woman runs application .', 'skillful man prepares program .'), 1), (('man bakes tasty meal .', 'man runs software .'), 0)]\n"
     ]
    }
   ],
   "source": [
    "def read_data(filename):\n",
    "    labels, sentences = [], []\n",
    "    with open(filename) as f:\n",
    "        for line in f:\n",
    "            line = line.split(\",\")\n",
    "            labels.append(int(line[2]))\n",
    "            sentences.append((line[0], line[1]))\n",
    "    return labels, sentences\n",
    "\n",
    "train_labels, train_data = read_data(\"./data/mc_pair_train_data.csv\")\n",
    "dev_labels, dev_data = read_data(\"./data/mc_pair_dev_data.csv\")\n",
    "test_labels, test_data = read_data(\"./data/mc_pair_test_data.csv\")\n",
    "\n",
    "print(list(zip(train_data[:5], train_labels[:5])))"
   ]
  }
 ],
 "metadata": {
  "kernelspec": {
   "display_name": "Python (quantum-lab)",
   "language": "python",
   "name": "quantum-lab"
  },
  "language_info": {
   "codemirror_mode": {
    "name": "ipython",
    "version": 3
   },
   "file_extension": ".py",
   "mimetype": "text/x-python",
   "name": "python",
   "nbconvert_exporter": "python",
   "pygments_lexer": "ipython3",
   "version": "3.9.16"
  }
 },
 "nbformat": 4,
 "nbformat_minor": 5
}
