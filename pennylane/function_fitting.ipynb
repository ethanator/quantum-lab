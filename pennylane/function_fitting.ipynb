{
 "cells": [
  {
   "cell_type": "markdown",
   "id": "d4fdf1de-4e81-49dc-b1bd-0d5829df9d17",
   "metadata": {},
   "source": [
    "# Function fitting with a photonic quantum neural networks\n",
    "\n",
    "**References**\n",
    "1. [PennyLane tutorial](https://pennylane.ai/qml/demos/quantum_neural_net.html)\n",
    "2. [PennyLane-SF Installation](https://docs.pennylane.ai/projects/strawberryfields/en/latest/installation.html)"
   ]
  },
  {
   "cell_type": "code",
   "execution_count": 1,
   "id": "c6fc54b0-c7a6-40d2-8ad8-1ed00dcae57a",
   "metadata": {
    "tags": []
   },
   "outputs": [],
   "source": [
    "import pennylane as qml\n",
    "from pennylane import numpy as np\n",
    "from pennylane.optimize import AdamOptimizer"
   ]
  },
  {
   "cell_type": "markdown",
   "id": "81748d5b-3bcb-4916-b8d6-6f3369eea8a3",
   "metadata": {},
   "source": [
    "**References**\n",
    "\n",
    "1. [PennyLane-SF Docs | The Fock Device](https://docs.pennylane.ai/projects/strawberryfields/en/stable/devices/fock.html)\n",
    "2. [Wikipedia | Fock state](https://en.wikipedia.org/wiki/Fock_state)\n",
    "3. [Wikipedia | Quantum vacuum state](https://en.wikipedia.org/wiki/Quantum_vacuum_state)\n",
    "4. [PennyLane API Docs | qml.Displacement](https://docs.pennylane.ai/en/stable/code/api/pennylane.Displacement.html)\n",
    "5. [PennyLane API Docs | qml.Beamsplitter](https://docs.pennylane.ai/en/stable/code/api/pennylane.Beamsplitter.html)"
   ]
  },
  {
   "cell_type": "code",
   "execution_count": 2,
   "id": "eac47188-e808-44a0-8f87-72f2468146e3",
   "metadata": {
    "tags": []
   },
   "outputs": [
    {
     "data": {
      "text/plain": [
       "tensor(0.73301326, requires_grad=True)"
      ]
     },
     "execution_count": 2,
     "metadata": {},
     "output_type": "execute_result"
    }
   ],
   "source": [
    "# Any continuous-variable operation can be represented by the Fock device,\n",
    "# but the simulations are approximations, whose accuracy increases with the cutoff_dim.\n",
    "# cutoff_dim also basically limits the dimension of the Hilbert space.\n",
    "test_dev = qml.device(\"strawberryfields.fock\", wires=2, cutoff_dim=10)\n",
    "\n",
    "@qml.qnode(test_dev)\n",
    "def test_quantum_function(x, theta):\n",
    "    qml.Displacement(x, 0, wires=0)\n",
    "    qml.Beamsplitter(theta, 0, wires=[0, 1])\n",
    "    return qml.expval(qml.NumberOperator(0))\n",
    "\n",
    "test_quantum_function(1., 0.543)"
   ]
  },
  {
   "cell_type": "code",
   "execution_count": 3,
   "id": "f5af0264-6540-4aee-92a4-7aec0c9453c1",
   "metadata": {
    "tags": []
   },
   "outputs": [
    {
     "data": {
      "text/plain": [
       "1.4660265156190508"
      ]
     },
     "execution_count": 3,
     "metadata": {},
     "output_type": "execute_result"
    }
   ],
   "source": [
    "dqfunc = qml.grad(test_quantum_function, argnum=0)\n",
    "dqfunc(1., 0.543)"
   ]
  },
  {
   "cell_type": "code",
   "execution_count": 4,
   "id": "f5d4af8f-c94d-4e4c-b0ff-6e77b72f5ab4",
   "metadata": {
    "tags": []
   },
   "outputs": [],
   "source": [
    "dev = qml.device(\"strawberryfields.fock\", wires=1, cutoff_dim=10)"
   ]
  },
  {
   "cell_type": "code",
   "execution_count": 3,
   "id": "f0b6b836-0262-4eaf-855b-1e9032d836c2",
   "metadata": {
    "tags": []
   },
   "outputs": [],
   "source": [
    "def layer(v):\n",
    "    # Matrix multiplication of input layer\n",
    "    qml.Rotation(v[0], wires=0)\n",
    "    qml.Squeezing(v[1], 0.0, wires=0)\n",
    "    qml.Rotation(v[2], wires=0)\n",
    "\n",
    "    # Bias\n",
    "    qml.Displacement(v[3], 0.0, wires=0)\n",
    "\n",
    "    # Element-wise nonlinear transformation\n",
    "    qml.Kerr(v[4], wires=0)"
   ]
  },
  {
   "cell_type": "code",
   "execution_count": 4,
   "id": "1c525daf-8b31-4f47-9bd3-4e18a06a21c5",
   "metadata": {
    "tags": []
   },
   "outputs": [],
   "source": [
    "@qml.qnode(dev)\n",
    "def quantum_neural_net(var, x):\n",
    "    # Encode input x into quantum state\n",
    "    qml.Displacement(x, 0.0, wires=0)\n",
    "\n",
    "    # \"layer\" subcircuits\n",
    "    for v in var:\n",
    "        layer(v)\n",
    "\n",
    "    return qml.expval(qml.X(0))"
   ]
  },
  {
   "cell_type": "code",
   "execution_count": 5,
   "id": "c650a627-2472-46d4-ae03-650ab919c1d1",
   "metadata": {
    "tags": []
   },
   "outputs": [],
   "source": [
    "def square_loss(labels, predictions):\n",
    "    loss = 0\n",
    "    for l, p in zip(labels, predictions):\n",
    "        loss = loss + (l - p) ** 2\n",
    "\n",
    "    loss = loss / len(labels)\n",
    "    return loss"
   ]
  },
  {
   "cell_type": "code",
   "execution_count": 6,
   "id": "72fc1ef9-7e1a-4de9-8d5e-6999738a1437",
   "metadata": {
    "tags": []
   },
   "outputs": [],
   "source": [
    "def cost(var, features, labels):\n",
    "    preds = [quantum_neural_net(var, x) for x in features]\n",
    "    return square_loss(labels, preds)"
   ]
  },
  {
   "cell_type": "code",
   "execution_count": 7,
   "id": "badd23d2-adae-43a1-8e76-39ed1978ae01",
   "metadata": {
    "tags": []
   },
   "outputs": [],
   "source": [
    "data = np.loadtxt(\"sine.txt\")\n",
    "X = np.array(data[:, 0], requires_grad=False)\n",
    "Y = np.array(data[:, 1], requires_grad=False)"
   ]
  },
  {
   "cell_type": "code",
   "execution_count": 8,
   "id": "d465fad7-7060-465e-8ca0-dd432049b97b",
   "metadata": {
    "tags": []
   },
   "outputs": [
    {
     "data": {
      "image/png": "[encoded data removed]",
      "text/plain": [
       "<Figure size 640x480 with 1 Axes>"
      ]
     },
     "metadata": {},
     "output_type": "display_data"
    }
   ],
   "source": [
    "import matplotlib.pyplot as plt\n",
    "\n",
    "plt.figure()\n",
    "plt.scatter(X, Y)\n",
    "plt.xlabel(\"x\", fontsize=18)\n",
    "plt.ylabel(\"f(x)\", fontsize=18)\n",
    "plt.tick_params(axis=\"both\", which=\"major\", labelsize=16)\n",
    "plt.tick_params(axis=\"both\", which=\"minor\", labelsize=16)\n",
    "plt.show()"
   ]
  }
 ],
 "metadata": {
  "kernelspec": {
   "display_name": "Python (quantum-lab)",
   "language": "python",
   "name": "quantum-lab"
  },
  "language_info": {
   "codemirror_mode": {
    "name": "ipython",
    "version": 3
   },
   "file_extension": ".py",
   "mimetype": "text/x-python",
   "name": "python",
   "nbconvert_exporter": "python",
   "pygments_lexer": "ipython3",
   "version": "3.9.16"
  }
 },
 "nbformat": 4,
 "nbformat_minor": 5
}
