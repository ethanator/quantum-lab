{
 "cells": [
  {
   "cell_type": "markdown",
   "id": "301e5014-ff06-4092-b345-00baf1c812ac",
   "metadata": {},
   "source": [
    "**References**\n",
    "\n",
    "1. [Qiskit Algorithms Migration Guide](https://qiskit.org/documentation/stable/0.28/aqua_tutorials/Qiskit%20Algorithms%20Migration%20Guide.html#QSVM)\n",
    "2. [Quantum Kernel Machine Learning](https://github.com/Qiskit/qiskit-machine-learning/blob/main/docs/tutorials/03_quantum_kernel.ipynb)\n",
    "3. [Coding with Qiskit S2E6](https://youtu.be/OKbcJCUx6xA)"
   ]
  },
  {
   "cell_type": "code",
   "execution_count": 1,
   "id": "06850ea6-c660-409a-af23-17ed2e58f060",
   "metadata": {},
   "outputs": [
    {
     "ename": "ImportError",
     "evalue": "cannot import name 'QSVM' from 'qiskit.algorithms' (/Users/Ethanator/miniconda3/envs/quantum-lab/lib/python3.9/site-packages/qiskit/algorithms/__init__.py)",
     "output_type": "error",
     "traceback": [
      "\u001b[0;31m---------------------------------------------------------------------------\u001b[0m",
      "\u001b[0;31mImportError\u001b[0m                               Traceback (most recent call last)",
      "Cell \u001b[0;32mIn[1], line 6\u001b[0m\n\u001b[1;32m      4\u001b[0m \u001b[38;5;28;01mfrom\u001b[39;00m \u001b[38;5;21;01mqiskit\u001b[39;00m \u001b[38;5;28;01mimport\u001b[39;00m BasicAer\n\u001b[1;32m      5\u001b[0m \u001b[38;5;28;01mfrom\u001b[39;00m \u001b[38;5;21;01mqiskit\u001b[39;00m\u001b[38;5;21;01m.\u001b[39;00m\u001b[38;5;21;01mutils\u001b[39;00m \u001b[38;5;28;01mimport\u001b[39;00m QuantumInstance\n\u001b[0;32m----> 6\u001b[0m \u001b[38;5;28;01mfrom\u001b[39;00m \u001b[38;5;21;01mqiskit\u001b[39;00m\u001b[38;5;21;01m.\u001b[39;00m\u001b[38;5;21;01malgorithms\u001b[39;00m \u001b[38;5;28;01mimport\u001b[39;00m QSVM\n\u001b[1;32m      7\u001b[0m \u001b[38;5;28;01mfrom\u001b[39;00m \u001b[38;5;21;01mqiskit_machine_learning\u001b[39;00m\u001b[38;5;21;01m.\u001b[39;00m\u001b[38;5;21;01mdatasets\u001b[39;00m \u001b[38;5;28;01mimport\u001b[39;00m ad_hoc_data\n",
      "\u001b[0;31mImportError\u001b[0m: cannot import name 'QSVM' from 'qiskit.algorithms' (/Users/Ethanator/miniconda3/envs/quantum-lab/lib/python3.9/site-packages/qiskit/algorithms/__init__.py)"
     ]
    }
   ],
   "source": [
    "import numpy as np\n",
    "import qiskit\n",
    "from matplotlib import pyplot as plt\n",
    "from qiskit import BasicAer\n",
    "from qiskit.utils import QuantumInstance\n",
    "from qiskit.algorithms import QSVM\n",
    "from qiskit_machine_learning.datasets import ad_hoc_data"
   ]
  },
  {
   "cell_type": "code",
   "execution_count": 2,
   "id": "bd4a0ad1-4697-4ee8-a1a3-606462a0ea01",
   "metadata": {},
   "outputs": [],
   "source": [
    "feature_dim = 2\n",
    "training_dataset_size = 20\n",
    "testing_dataset_size = 10\n",
    "random_seed = 20230411\n",
    "shot = 10000"
   ]
  }
 ],
 "metadata": {
  "kernelspec": {
   "display_name": "quantum-lab",
   "language": "python",
   "name": "quantum-lab"
  },
  "language_info": {
   "codemirror_mode": {
    "name": "ipython",
    "version": 3
   },
   "file_extension": ".py",
   "mimetype": "text/x-python",
   "name": "python",
   "nbconvert_exporter": "python",
   "pygments_lexer": "ipython3",
   "version": "3.9.0"
  }
 },
 "nbformat": 4,
 "nbformat_minor": 5
}
